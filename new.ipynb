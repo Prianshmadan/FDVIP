{
 "cells": [
  {
   "cell_type": "code",
   "execution_count": null,
   "metadata": {},
   "outputs": [],
   "source": [
    "import cv2\n",
    "  \n",
    "# path\n",
    "path = r'C:\\\\Users\\\\prian\\\\OneDrive\\\\Desktop\\\\leena.jpg'\n",
    "  \n",
    "cv2.imread(path, 0)\n",
    "  \n",
    "# Displaying the image\n"
   ]
  },
  {
   "cell_type": "code",
   "execution_count": null,
   "metadata": {},
   "outputs": [],
   "source": []
  }
 ],
 "metadata": {
  "kernelspec": {
   "display_name": "Python 3",
   "language": "python",
   "name": "python3"
  },
  "language_info": {
   "name": "python",
   "version": "3.10.2"
  },
  "orig_nbformat": 4,
  "vscode": {
   "interpreter": {
    "hash": "fedcfe486e31cdc1583648fdaad6405520ad793040ca29481e10ac6adfa828b2"
   }
  }
 },
 "nbformat": 4,
 "nbformat_minor": 2
}
